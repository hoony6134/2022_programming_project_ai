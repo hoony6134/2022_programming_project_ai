{
 "nbformat": 4,
 "nbformat_minor": 0,
 "metadata": {
  "colab": {
   "provenance": []
  },
  "kernelspec": {
   "name": "python3",
   "display_name": "Python 3"
  },
  "language_info": {
   "name": "python"
  }
 },
 "cells": [
  {
   "cell_type": "markdown",
   "source": [
    "# Spam Message Identification System\n",
    "### Developed by JeongHoon Lim"
   ],
   "metadata": {
    "id": "s1tnNqOzS9kI"
   }
  },
  {
   "cell_type": "markdown",
   "source": [
    "## Descriptions\n",
    "* **Background** | 현재 우리는 정보화 시대에서 살아가며 다양한 종류의 문자를 받는다. 그 중에는 우리가 원하는 문자(ham)도 있지만, 광고성 문자 혹은 다양한 종류의 위협을 동반할 수 있는 문자인 스팸(spam) 문자가 있으며, 이는 사회적 문제로 대두되고 있다. 이에, 스팸 문자를 자동으로 판별할 수 있는 인공지능 프로그램을 구현하여 스팸 문자로 인한 사회적 문제를 해결하는 데에 조금이나마 기여해보고자 본 프로젝트를 진행하게 되었다.\n",
    "* **Dataset** | [Spam Identification Dataset (Kaggle)](https://www.kaggle.com/datasets/amirdhavarshinis/spam-identification) 사용\n",
    "* **Details** | 문자의 내용과 스팸문자인지의 여부가 나타난 데이터셋으로, 독립변수(문자 내용)를 학습하여 종속변수(스팸문자 여부)를 도출하는 인공지능 프로그램을 제작한다."
   ],
   "metadata": {
    "id": "qLXCi5YMUHbS"
   }
  },
  {
   "cell_type": "markdown",
   "source": [
    "## Preparation"
   ],
   "metadata": {
    "id": "w97HPD4XVkGr"
   }
  },
  {
   "cell_type": "markdown",
   "source": [
    "### Libraries"
   ],
   "metadata": {
    "id": "jq5QtHz0VoId"
   }
  },
  {
   "cell_type": "code",
   "execution_count": 1,
   "metadata": {
    "id": "HHZpemH8S4Pn"
   },
   "outputs": [
    {
     "name": "stderr",
     "output_type": "stream",
     "text": [
      "2022-12-22 20:21:41.274281: I tensorflow/core/platform/cpu_feature_guard.cc:193] This TensorFlow binary is optimized with oneAPI Deep Neural Network Library (oneDNN) to use the following CPU instructions in performance-critical operations:  SSE4.1 SSE4.2 AVX AVX2 FMA\n",
      "To enable them in other operations, rebuild TensorFlow with the appropriate compiler flags.\n"
     ]
    }
   ],
   "source": [
    "import tensorflow as tf\n",
    "import numpy as np\n",
    "import pandas as pd\n",
    "from tensorflow import keras"
   ]
  },
  {
   "cell_type": "markdown",
   "source": [
    "### File Import"
   ],
   "metadata": {
    "id": "TaikySIwYehQ"
   }
  },
  {
   "cell_type": "code",
   "source": [
    "file_location = 'https://raw.githubusercontent.com/hoony6134/2022_programming_project_ai/main/spam.csv'\n",
    "data = pd.read_csv(file_location, encoding='cp949')\n",
    "data"
   ],
   "metadata": {
    "colab": {
     "base_uri": "https://localhost:8080/",
     "height": 424
    },
    "id": "tMTD3fxAYgmV",
    "outputId": "60c181e4-c28b-40bf-b4eb-5bfa7ce3f113"
   },
   "execution_count": 2,
   "outputs": [
    {
     "data": {
      "text/plain": "                                                    msg  spam\n0     Go until jurong point, crazy.. Available only ...     0\n1                         Ok lar... Joking wif u oni...     0\n2     Free entry in 2 a wkly comp to win FA Cup fina...     1\n3     U dun say so early hor... U c already then say...     0\n4     Nah I don't think he goes to usf, he lives aro...     0\n...                                                 ...   ...\n5567  This is the 2nd time we have tried 2 contact u...     1\n5568               Will _ b going to esplanade fr home?     0\n5569  Pity, * was in mood for that. So...any other s...     0\n5570  The guy did some bitching but I acted like i'd...     0\n5571                         Rofl. Its true to its name     0\n\n[5572 rows x 2 columns]",
      "text/html": "<div>\n<style scoped>\n    .dataframe tbody tr th:only-of-type {\n        vertical-align: middle;\n    }\n\n    .dataframe tbody tr th {\n        vertical-align: top;\n    }\n\n    .dataframe thead th {\n        text-align: right;\n    }\n</style>\n<table border=\"1\" class=\"dataframe\">\n  <thead>\n    <tr style=\"text-align: right;\">\n      <th></th>\n      <th>msg</th>\n      <th>spam</th>\n    </tr>\n  </thead>\n  <tbody>\n    <tr>\n      <th>0</th>\n      <td>Go until jurong point, crazy.. Available only ...</td>\n      <td>0</td>\n    </tr>\n    <tr>\n      <th>1</th>\n      <td>Ok lar... Joking wif u oni...</td>\n      <td>0</td>\n    </tr>\n    <tr>\n      <th>2</th>\n      <td>Free entry in 2 a wkly comp to win FA Cup fina...</td>\n      <td>1</td>\n    </tr>\n    <tr>\n      <th>3</th>\n      <td>U dun say so early hor... U c already then say...</td>\n      <td>0</td>\n    </tr>\n    <tr>\n      <th>4</th>\n      <td>Nah I don't think he goes to usf, he lives aro...</td>\n      <td>0</td>\n    </tr>\n    <tr>\n      <th>...</th>\n      <td>...</td>\n      <td>...</td>\n    </tr>\n    <tr>\n      <th>5567</th>\n      <td>This is the 2nd time we have tried 2 contact u...</td>\n      <td>1</td>\n    </tr>\n    <tr>\n      <th>5568</th>\n      <td>Will _ b going to esplanade fr home?</td>\n      <td>0</td>\n    </tr>\n    <tr>\n      <th>5569</th>\n      <td>Pity, * was in mood for that. So...any other s...</td>\n      <td>0</td>\n    </tr>\n    <tr>\n      <th>5570</th>\n      <td>The guy did some bitching but I acted like i'd...</td>\n      <td>0</td>\n    </tr>\n    <tr>\n      <th>5571</th>\n      <td>Rofl. Its true to its name</td>\n      <td>0</td>\n    </tr>\n  </tbody>\n</table>\n<p>5572 rows × 2 columns</p>\n</div>"
     },
     "execution_count": 2,
     "metadata": {},
     "output_type": "execute_result"
    }
   ]
  },
  {
   "cell_type": "markdown",
   "source": [
    "## Building AI"
   ],
   "metadata": {
    "id": "huZCMU7nZwe9"
   }
  },
  {
   "cell_type": "markdown",
   "source": [
    "### Variables"
   ],
   "metadata": {
    "id": "gZATlZLqZydl"
   }
  },
  {
   "cell_type": "code",
   "source": [
    "Xlist = data[['msg']] \n",
    "Ylist = data[['spam']]\n",
    "print(Xlist.shape, Ylist.shape)"
   ],
   "metadata": {
    "colab": {
     "base_uri": "https://localhost:8080/"
    },
    "id": "ErnNFQgtZ0n_",
    "outputId": "03c1e012-5157-4e38-93bc-9fcabc33bbcc"
   },
   "execution_count": 3,
   "outputs": [
    {
     "name": "stdout",
     "output_type": "stream",
     "text": [
      "(5572, 1) (5572, 1)\n"
     ]
    }
   ]
  },
  {
   "cell_type": "markdown",
   "source": [
    "### Model"
   ],
   "metadata": {
    "id": "pc9-8ylWZ-Go"
   }
  },
  {
   "cell_type": "code",
   "source": [
    "X = tf.keras.layers.Input(shape=1)\n",
    "Y = tf.keras.layers.Dense(1, activation='sigmoid')(X)\n",
    "\n",
    "# Model start\n",
    "model = keras.Sequential()\n",
    "model.add(keras.layers.GlobalAveragePooling1D())\n",
    "model.add(keras.layers.Dense(1, activation=tf.nn.relu))\n",
    "# Model end\n",
    "\n",
    "model.compile(optimizer='adam',loss='binary_crossentropy', \n",
    "              metrics='accuracy')"
   ],
   "metadata": {
    "id": "KGAlH3wcZ6EW"
   },
   "execution_count": 4,
   "outputs": [
    {
     "name": "stderr",
     "output_type": "stream",
     "text": [
      "2022-12-22 20:23:27.585206: I tensorflow/core/platform/cpu_feature_guard.cc:193] This TensorFlow binary is optimized with oneAPI Deep Neural Network Library (oneDNN) to use the following CPU instructions in performance-critical operations:  SSE4.1 SSE4.2 AVX AVX2 FMA\n",
      "To enable them in other operations, rebuild TensorFlow with the appropriate compiler flags.\n"
     ]
    }
   ]
  },
  {
   "cell_type": "markdown",
   "source": [
    "### Epoch Setting"
   ],
   "metadata": {
    "id": "OrRNl4CcZ_Ms"
   }
  },
  {
   "cell_type": "code",
   "source": [
    "epc=int(input(\"Epoch 값을 입력하세요: \"))\n",
    "model.fit(Xlist, Ylist, epochs=epc,verbose=0)\n",
    "model.fit(Xlist, Ylist, epochs=10,verbose=1)"
   ],
   "metadata": {
    "colab": {
     "base_uri": "https://localhost:8080/",
     "height": 1000
    },
    "id": "89szHRjqaCnw",
    "outputId": "5720ec3b-8d9e-48c2-dfc5-b6fd933ca712"
   },
   "execution_count": 5,
   "outputs": [
    {
     "ename": "ValueError",
     "evalue": "in user code:\n\n    File \"/Users/jh/opt/anaconda3/envs/ipynb/lib/python3.10/site-packages/keras/engine/training.py\", line 1160, in train_function  *\n        return step_function(self, iterator)\n    File \"/Users/jh/opt/anaconda3/envs/ipynb/lib/python3.10/site-packages/keras/engine/training.py\", line 1146, in step_function  **\n        outputs = model.distribute_strategy.run(run_step, args=(data,))\n    File \"/Users/jh/opt/anaconda3/envs/ipynb/lib/python3.10/site-packages/keras/engine/training.py\", line 1135, in run_step  **\n        outputs = model.train_step(data)\n    File \"/Users/jh/opt/anaconda3/envs/ipynb/lib/python3.10/site-packages/keras/engine/training.py\", line 993, in train_step\n        y_pred = self(x, training=True)\n    File \"/Users/jh/opt/anaconda3/envs/ipynb/lib/python3.10/site-packages/keras/utils/traceback_utils.py\", line 70, in error_handler\n        raise e.with_traceback(filtered_tb) from None\n    File \"/Users/jh/opt/anaconda3/envs/ipynb/lib/python3.10/site-packages/keras/engine/input_spec.py\", line 232, in assert_input_compatibility\n        raise ValueError(\n\n    ValueError: Exception encountered when calling layer \"sequential\" \"                 f\"(type Sequential).\n    \n    Input 0 of layer \"global_average_pooling1d\" is incompatible with the layer: expected ndim=3, found ndim=2. Full shape received: (None, 1)\n    \n    Call arguments received by layer \"sequential\" \"                 f\"(type Sequential):\n      • inputs=tf.Tensor(shape=(None, 1), dtype=string)\n      • training=True\n      • mask=None\n",
     "output_type": "error",
     "traceback": [
      "\u001B[0;31m---------------------------------------------------------------------------\u001B[0m",
      "\u001B[0;31mValueError\u001B[0m                                Traceback (most recent call last)",
      "Cell \u001B[0;32mIn[5], line 2\u001B[0m\n\u001B[1;32m      1\u001B[0m epc\u001B[38;5;241m=\u001B[39m\u001B[38;5;28mint\u001B[39m(\u001B[38;5;28minput\u001B[39m(\u001B[38;5;124m\"\u001B[39m\u001B[38;5;124mEpoch 값을 입력하세요: \u001B[39m\u001B[38;5;124m\"\u001B[39m))\n\u001B[0;32m----> 2\u001B[0m \u001B[43mmodel\u001B[49m\u001B[38;5;241;43m.\u001B[39;49m\u001B[43mfit\u001B[49m\u001B[43m(\u001B[49m\u001B[43mXlist\u001B[49m\u001B[43m,\u001B[49m\u001B[43m \u001B[49m\u001B[43mYlist\u001B[49m\u001B[43m,\u001B[49m\u001B[43m \u001B[49m\u001B[43mepochs\u001B[49m\u001B[38;5;241;43m=\u001B[39;49m\u001B[43mepc\u001B[49m\u001B[43m,\u001B[49m\u001B[43mverbose\u001B[49m\u001B[38;5;241;43m=\u001B[39;49m\u001B[38;5;241;43m0\u001B[39;49m\u001B[43m)\u001B[49m\n\u001B[1;32m      3\u001B[0m model\u001B[38;5;241m.\u001B[39mfit(Xlist, Ylist, epochs\u001B[38;5;241m=\u001B[39m\u001B[38;5;241m10\u001B[39m,verbose\u001B[38;5;241m=\u001B[39m\u001B[38;5;241m1\u001B[39m)\n",
      "File \u001B[0;32m~/opt/anaconda3/envs/ipynb/lib/python3.10/site-packages/keras/utils/traceback_utils.py:70\u001B[0m, in \u001B[0;36mfilter_traceback.<locals>.error_handler\u001B[0;34m(*args, **kwargs)\u001B[0m\n\u001B[1;32m     67\u001B[0m     filtered_tb \u001B[38;5;241m=\u001B[39m _process_traceback_frames(e\u001B[38;5;241m.\u001B[39m__traceback__)\n\u001B[1;32m     68\u001B[0m     \u001B[38;5;66;03m# To get the full stack trace, call:\u001B[39;00m\n\u001B[1;32m     69\u001B[0m     \u001B[38;5;66;03m# `tf.debugging.disable_traceback_filtering()`\u001B[39;00m\n\u001B[0;32m---> 70\u001B[0m     \u001B[38;5;28;01mraise\u001B[39;00m e\u001B[38;5;241m.\u001B[39mwith_traceback(filtered_tb) \u001B[38;5;28;01mfrom\u001B[39;00m \u001B[38;5;28mNone\u001B[39m\n\u001B[1;32m     71\u001B[0m \u001B[38;5;28;01mfinally\u001B[39;00m:\n\u001B[1;32m     72\u001B[0m     \u001B[38;5;28;01mdel\u001B[39;00m filtered_tb\n",
      "File \u001B[0;32m/var/folders/44/vtcwf46n265f65v1znng__8w0000gn/T/__autograph_generated_filei4a4umgu.py:15\u001B[0m, in \u001B[0;36mouter_factory.<locals>.inner_factory.<locals>.tf__train_function\u001B[0;34m(iterator)\u001B[0m\n\u001B[1;32m     13\u001B[0m \u001B[38;5;28;01mtry\u001B[39;00m:\n\u001B[1;32m     14\u001B[0m     do_return \u001B[38;5;241m=\u001B[39m \u001B[38;5;28;01mTrue\u001B[39;00m\n\u001B[0;32m---> 15\u001B[0m     retval_ \u001B[38;5;241m=\u001B[39m ag__\u001B[38;5;241m.\u001B[39mconverted_call(ag__\u001B[38;5;241m.\u001B[39mld(step_function), (ag__\u001B[38;5;241m.\u001B[39mld(\u001B[38;5;28mself\u001B[39m), ag__\u001B[38;5;241m.\u001B[39mld(iterator)), \u001B[38;5;28;01mNone\u001B[39;00m, fscope)\n\u001B[1;32m     16\u001B[0m \u001B[38;5;28;01mexcept\u001B[39;00m:\n\u001B[1;32m     17\u001B[0m     do_return \u001B[38;5;241m=\u001B[39m \u001B[38;5;28;01mFalse\u001B[39;00m\n",
      "\u001B[0;31mValueError\u001B[0m: in user code:\n\n    File \"/Users/jh/opt/anaconda3/envs/ipynb/lib/python3.10/site-packages/keras/engine/training.py\", line 1160, in train_function  *\n        return step_function(self, iterator)\n    File \"/Users/jh/opt/anaconda3/envs/ipynb/lib/python3.10/site-packages/keras/engine/training.py\", line 1146, in step_function  **\n        outputs = model.distribute_strategy.run(run_step, args=(data,))\n    File \"/Users/jh/opt/anaconda3/envs/ipynb/lib/python3.10/site-packages/keras/engine/training.py\", line 1135, in run_step  **\n        outputs = model.train_step(data)\n    File \"/Users/jh/opt/anaconda3/envs/ipynb/lib/python3.10/site-packages/keras/engine/training.py\", line 993, in train_step\n        y_pred = self(x, training=True)\n    File \"/Users/jh/opt/anaconda3/envs/ipynb/lib/python3.10/site-packages/keras/utils/traceback_utils.py\", line 70, in error_handler\n        raise e.with_traceback(filtered_tb) from None\n    File \"/Users/jh/opt/anaconda3/envs/ipynb/lib/python3.10/site-packages/keras/engine/input_spec.py\", line 232, in assert_input_compatibility\n        raise ValueError(\n\n    ValueError: Exception encountered when calling layer \"sequential\" \"                 f\"(type Sequential).\n    \n    Input 0 of layer \"global_average_pooling1d\" is incompatible with the layer: expected ndim=3, found ndim=2. Full shape received: (None, 1)\n    \n    Call arguments received by layer \"sequential\" \"                 f\"(type Sequential):\n      • inputs=tf.Tensor(shape=(None, 1), dtype=string)\n      • training=True\n      • mask=None\n"
     ]
    }
   ]
  }
 ]
}
